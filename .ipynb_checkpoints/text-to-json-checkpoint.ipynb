{
 "cells": [
  {
   "cell_type": "code",
   "execution_count": 1,
   "id": "5a9e6b80-a242-44dc-9f4f-ffa8d0980aaf",
   "metadata": {},
   "outputs": [],
   "source": [
    "from jsonformer import Jsonformer\n",
    "from transformers import AutoModelForCausalLM, AutoTokenizer"
   ]
  },
  {
   "cell_type": "code",
   "execution_count": 5,
   "id": "a3131157-1714-4942-a8f6-678a38e06763",
   "metadata": {},
   "outputs": [],
   "source": [
    "model = AutoModelForCausalLM.from_pretrained(\"databricks/dolly-v2-3b\", device_map='cuda')\n",
    "tokenizer = AutoTokenizer.from_pretrained(\"databricks/dolly-v2-3b\")"
   ]
  },
  {
   "cell_type": "code",
   "execution_count": 6,
   "id": "2f642bef-67d2-4096-8354-13491d82bb4f",
   "metadata": {},
   "outputs": [],
   "source": [
    "dataset_dir = \"/home/sam/Desktop/datasets/used-cars/\""
   ]
  },
  {
   "cell_type": "code",
   "execution_count": 7,
   "id": "0d5b0f77-f11e-404f-b5c9-ab70d7a905dc",
   "metadata": {},
   "outputs": [],
   "source": [
    "with open(dataset_dir + 'target_col.txt') as f:\n",
    "    lines = f.readlines()"
   ]
  },
  {
   "cell_type": "code",
   "execution_count": 8,
   "id": "67c7daac-1db3-47fe-ba61-d4e07c3c3692",
   "metadata": {},
   "outputs": [],
   "source": [
    "json_schema = {\n",
    "    \"type\": \"object\",\n",
    "    \"properties\": {\n",
    "        \"horsepower\": {\"type\": \"number\"},\n",
    "        \"liters\": {\"type\": \"number\"},\n",
    "        \"cylinders\": {\"type\": \"number\"},\n",
    "        \"fuel_type\": {\"type\": \"string\"}\n",
    "    }\n",
    "}"
   ]
  },
  {
   "cell_type": "code",
   "execution_count": 11,
   "id": "72ec3cbf-30d2-408c-9c06-71ffa49b3630",
   "metadata": {},
   "outputs": [
    {
     "name": "stdout",
     "output_type": "stream",
     "text": [
      "{'horsepower': 172.0, 'liters': 1.6, 'cylinders': 4.0, 'fuel_type': 'Gasoline Fuel'}\n",
      "{'horsepower': 252.0, 'liters': 3.9, 'cylinders': 8.0, 'fuel_type': 'Gasoline Fuel'}\n",
      "{'horsepower': 320.0, 'liters': 5.3, 'cylinders': 8.0, 'fuel_type': 'flex fuel'}\n",
      "{'horsepower': 420.0, 'liters': 5.0, 'cylinders': 8.0, 'fuel_type': 'Gasoline Fuel'}\n",
      "{'horsepower': 208.0, 'liters': 2.0, 'cylinders': 4.0, 'fuel_type': 'Gasoline Fuel'}\n",
      "{'horsepower': 252.0, 'liters': 2.0, 'cylinders': 4.0, 'fuel_type': 'Gasoline Fuel'}\n",
      "{'horsepower': 333.0, 'liters': 3.0, 'cylinders': 6.0, 'fuel_type': 'Gasoline Fuel'}\n",
      "{'horsepower': 355.0, 'liters': 5.3, 'cylinders': 8.0, 'fuel_type': 'flex fuel'}\n",
      "{'horsepower': 2.7, 'liters': 2.7, 'cylinders': 24.0, 'fuel_type': '24V PDI DOHC Twin Turbo'}\n",
      "{'horsepower': 425.099999999, 'liters': 3.099999999, 'cylinders': 6.099999999, 'fuel_type': 'gasoline'}\n"
     ]
    }
   ],
   "source": [
    "for line in lines[:10]:\n",
    "    prompt = f\"Parse the following data into the JSON format: {line.strip()}\"\n",
    "    jsonformer = Jsonformer(model, tokenizer, json_schema, prompt)\n",
    "    generated_data = jsonformer()\n",
    "    print(generated_data)"
   ]
  },
  {
   "cell_type": "code",
   "execution_count": 12,
   "id": "e88c747a-7593-4f97-8837-3e9ff2529840",
   "metadata": {},
   "outputs": [
    {
     "data": {
      "text/plain": [
       "['172.0HP 1.6L 4 Cylinder Engine Gasoline Fuel\\n',\n",
       " '252.0HP 3.9L 8 Cylinder Engine Gasoline Fuel\\n',\n",
       " '320.0HP 5.3L 8 Cylinder Engine Flex Fuel Capability\\n',\n",
       " '420.0HP 5.0L 8 Cylinder Engine Gasoline Fuel\\n',\n",
       " '208.0HP 2.0L 4 Cylinder Engine Gasoline Fuel\\n',\n",
       " '252.0HP 2.0L 4 Cylinder Engine Gasoline Fuel\\n',\n",
       " '333.0HP 3.0L V6 Cylinder Engine Gasoline Fuel\\n',\n",
       " '355.0HP 5.3L 8 Cylinder Engine Flex Fuel Capability\\n',\n",
       " '2.7L V6 24V PDI DOHC Twin Turbo\\n',\n",
       " '425.0HP 3.0L Straight 6 Cylinder Engine Gasoline Fuel\\n']"
      ]
     },
     "execution_count": 12,
     "metadata": {},
     "output_type": "execute_result"
    }
   ],
   "source": [
    "lines[:10]"
   ]
  },
  {
   "cell_type": "code",
   "execution_count": 9,
   "id": "cd0b4a0f-c497-435b-a405-ac04afa2878c",
   "metadata": {},
   "outputs": [
    {
     "name": "stderr",
     "output_type": "stream",
     "text": [
      "The attention mask is not set and cannot be inferred from input because pad token is same as eos token. As a consequence, you may observe unexpected behavior. Please pass your input's `attention_mask` to obtain reliable results.\n"
     ]
    }
   ],
   "source": [
    "prompt = f\"Parse the following data into the JSON format: {[line.strip() for line in lines[:10]]}\"\n",
    "jsonformer = Jsonformer(model, tokenizer, json_schema, prompt)\n",
    "generated_data = jsonformer()"
   ]
  },
  {
   "cell_type": "code",
   "execution_count": 19,
   "id": "c7f9184b-69c3-4bcc-aff0-6d5dbedc34a2",
   "metadata": {},
   "outputs": [
    {
     "name": "stdout",
     "output_type": "stream",
     "text": [
      "172.0HP 1.6L 4 Cylinder Engine Gasoline Fuel\n"
     ]
    }
   ],
   "source": [
    "print(lines[0].strip())"
   ]
  }
 ],
 "metadata": {
  "kernelspec": {
   "display_name": "Python 3 (ipykernel)",
   "language": "python",
   "name": "python3"
  },
  "language_info": {
   "codemirror_mode": {
    "name": "ipython",
    "version": 3
   },
   "file_extension": ".py",
   "mimetype": "text/x-python",
   "name": "python",
   "nbconvert_exporter": "python",
   "pygments_lexer": "ipython3",
   "version": "3.10.14"
  }
 },
 "nbformat": 4,
 "nbformat_minor": 5
}
